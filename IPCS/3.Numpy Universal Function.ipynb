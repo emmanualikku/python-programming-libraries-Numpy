{
 "cells": [
  {
   "cell_type": "markdown",
   "id": "2a61db15-d703-47b9-8b8d-d733b78c20fc",
   "metadata": {},
   "source": [
    "#  Numpy Universal Function"
   ]
  },
  {
   "cell_type": "code",
   "execution_count": 3,
   "id": "0fa739af-23d6-4344-94d8-30b1ea201867",
   "metadata": {},
   "outputs": [],
   "source": [
    "import numpy as np"
   ]
  },
  {
   "cell_type": "code",
   "execution_count": 5,
   "id": "e6490e80-601a-4fe8-aeeb-6b04cc2d6eb7",
   "metadata": {},
   "outputs": [
    {
     "name": "stdout",
     "output_type": "stream",
     "text": [
      "<class 'function'>\n"
     ]
    }
   ],
   "source": [
    "def add(a,b):\n",
    "        return a+b\n",
    "print(type(add))"
   ]
  },
  {
   "cell_type": "code",
   "execution_count": 8,
   "id": "736df2c1-3c44-4a40-93cb-aab9146b7d83",
   "metadata": {},
   "outputs": [
    {
     "name": "stdout",
     "output_type": "stream",
     "text": [
      "<class 'numpy.ufunc'>\n"
     ]
    }
   ],
   "source": [
    "print(type(np.add))"
   ]
  },
  {
   "cell_type": "code",
   "execution_count": 10,
   "id": "ff6327bb-d7b6-4051-a7a9-fbd3738258b0",
   "metadata": {},
   "outputs": [
    {
     "name": "stdout",
     "output_type": "stream",
     "text": [
      "<class 'numpy.ufunc'>\n"
     ]
    }
   ],
   "source": [
    "add_u = np.frompyfunc(add,2,1)\n",
    "print(type(add_u))"
   ]
  },
  {
   "cell_type": "code",
   "execution_count": 12,
   "id": "be968c85-aed5-4f74-8d3e-f5d5f5ea6ac6",
   "metadata": {},
   "outputs": [
    {
     "data": {
      "text/plain": [
       "array([ 6,  8, 10, 12])"
      ]
     },
     "execution_count": 12,
     "metadata": {},
     "output_type": "execute_result"
    }
   ],
   "source": [
    "# add\n",
    "arr1 = np.array([2,3,4,5])\n",
    "arr2 = np.array([4,5,6,7])\n",
    "\n",
    "arr3 = np.add(arr1,arr2)\n",
    "arr3"
   ]
  },
  {
   "cell_type": "code",
   "execution_count": 14,
   "id": "af043a9f-ba96-4aa9-ac90-025935d7cb60",
   "metadata": {},
   "outputs": [
    {
     "data": {
      "text/plain": [
       "array([-2, -2, -2, -2])"
      ]
     },
     "execution_count": 14,
     "metadata": {},
     "output_type": "execute_result"
    }
   ],
   "source": [
    "# subtract\n",
    "arr1 = np.array([2,3,4,5])\n",
    "arr2 = np.array([4,5,6,7])\n",
    "\n",
    "arr3 = np.subtract(arr1,arr2)\n",
    "arr3"
   ]
  },
  {
   "cell_type": "code",
   "execution_count": 16,
   "id": "90a9fd33-31d7-4459-944d-56e329d68b7a",
   "metadata": {},
   "outputs": [
    {
     "data": {
      "text/plain": [
       "array([ 8, 15, 24, 35])"
      ]
     },
     "execution_count": 16,
     "metadata": {},
     "output_type": "execute_result"
    }
   ],
   "source": [
    "# mulitply\n",
    "arr1 = np.array([2,3,4,5])\n",
    "arr2 = np.array([4,5,6,7])\n",
    "\n",
    "arr3 = np.multiply(arr1,arr2)\n",
    "arr3"
   ]
  },
  {
   "cell_type": "code",
   "execution_count": 18,
   "id": "1e42df55-4f1c-4df5-91b7-3c817d65ff9e",
   "metadata": {},
   "outputs": [
    {
     "data": {
      "text/plain": [
       "array([0, 2, 2, 2])"
      ]
     },
     "execution_count": 18,
     "metadata": {},
     "output_type": "execute_result"
    }
   ],
   "source": [
    "# mod\n",
    "arr1 = np.array([2,3,4,5])\n",
    "arr2 = np.array([4,5,6,7])\n",
    "\n",
    "arr3 = np.remainder(arr2,arr1)\n",
    "arr3"
   ]
  },
  {
   "cell_type": "code",
   "execution_count": 20,
   "id": "f5ba9afc-ca36-4ce5-b0b4-77a6c560fd4d",
   "metadata": {},
   "outputs": [
    {
     "data": {
      "text/plain": [
       "(array([2, 1, 1, 1]), array([0, 2, 2, 2]))"
      ]
     },
     "execution_count": 20,
     "metadata": {},
     "output_type": "execute_result"
    }
   ],
   "source": [
    "# divmod\n",
    "arr1 = np.array([2,3,4,5])\n",
    "arr2 = np.array([4,5,6,7])\n",
    "\n",
    "arr3 = np.divmod(arr2,arr1)\n",
    "arr3"
   ]
  },
  {
   "cell_type": "code",
   "execution_count": 22,
   "id": "eb667c7b-2bee-482e-8881-8d6585da4554",
   "metadata": {},
   "outputs": [
    {
     "data": {
      "text/plain": [
       "array([2, 3, 4, 5])"
      ]
     },
     "execution_count": 22,
     "metadata": {},
     "output_type": "execute_result"
    }
   ],
   "source": [
    "# absolute\n",
    "arr1 = np.array([2,-3,4,-5])\n",
    "# arr2 = np.array([4,5,6,7])\n",
    "\n",
    "arr3 = np.abs(arr1)\n",
    "arr3"
   ]
  },
  {
   "cell_type": "markdown",
   "id": "22929b3b-3c88-4689-be3d-7cd02f8bdfcf",
   "metadata": {},
   "source": [
    "# Numpy Logarithmic Fucntions"
   ]
  },
  {
   "cell_type": "code",
   "execution_count": 26,
   "id": "2f21c80a-1a5d-4d92-998e-062ca5a89233",
   "metadata": {},
   "outputs": [
    {
     "name": "stderr",
     "output_type": "stream",
     "text": [
      "C:\\Users\\VICTUS\\AppData\\Local\\Temp\\ipykernel_8320\\2525474654.py:3: RuntimeWarning: invalid value encountered in log2\n",
      "  base = np.log2(arr1)\n"
     ]
    },
    {
     "data": {
      "text/plain": [
       "array([ 1., nan,  2., nan])"
      ]
     },
     "execution_count": 26,
     "metadata": {},
     "output_type": "execute_result"
    }
   ],
   "source": [
    "# log2\n",
    "\n",
    "base = np.log2(arr1)\n",
    "base"
   ]
  },
  {
   "cell_type": "code",
   "execution_count": 28,
   "id": "fb99e47e-b564-4c83-be05-99881192b016",
   "metadata": {},
   "outputs": [
    {
     "name": "stderr",
     "output_type": "stream",
     "text": [
      "C:\\Users\\VICTUS\\AppData\\Local\\Temp\\ipykernel_8320\\141745994.py:2: RuntimeWarning: invalid value encountered in log10\n",
      "  base = np.log10(arr1)\n"
     ]
    },
    {
     "data": {
      "text/plain": [
       "array([0.30103   ,        nan, 0.60205999,        nan])"
      ]
     },
     "execution_count": 28,
     "metadata": {},
     "output_type": "execute_result"
    }
   ],
   "source": [
    "# log10\n",
    "base = np.log10(arr1)\n",
    "base"
   ]
  },
  {
   "cell_type": "code",
   "execution_count": 30,
   "id": "1a80def3-e018-43d7-8672-336307fbba28",
   "metadata": {},
   "outputs": [
    {
     "name": "stderr",
     "output_type": "stream",
     "text": [
      "C:\\Users\\VICTUS\\AppData\\Local\\Temp\\ipykernel_8320\\1740743618.py:2: RuntimeWarning: invalid value encountered in log\n",
      "  base = np.log(arr1)\n"
     ]
    },
    {
     "data": {
      "text/plain": [
       "array([0.69314718,        nan, 1.38629436,        nan])"
      ]
     },
     "execution_count": 30,
     "metadata": {},
     "output_type": "execute_result"
    }
   ],
   "source": [
    "# loge\n",
    "base = np.log(arr1)\n",
    "base"
   ]
  },
  {
   "cell_type": "code",
   "execution_count": null,
   "id": "3562a3b7-3fde-46a4-af67-934c70b9386b",
   "metadata": {},
   "outputs": [],
   "source": []
  }
 ],
 "metadata": {
  "kernelspec": {
   "display_name": "Python [conda env:base] *",
   "language": "python",
   "name": "conda-base-py"
  },
  "language_info": {
   "codemirror_mode": {
    "name": "ipython",
    "version": 3
   },
   "file_extension": ".py",
   "mimetype": "text/x-python",
   "name": "python",
   "nbconvert_exporter": "python",
   "pygments_lexer": "ipython3",
   "version": "3.12.7"
  }
 },
 "nbformat": 4,
 "nbformat_minor": 5
}
