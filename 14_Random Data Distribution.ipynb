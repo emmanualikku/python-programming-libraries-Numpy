{
 "cells": [
  {
   "cell_type": "markdown",
   "id": "29951aa5-f402-4624-82bc-990dca5a07cd",
   "metadata": {},
   "source": [
    "# Random Data Distribution"
   ]
  },
  {
   "cell_type": "code",
   "execution_count": 3,
   "id": "29730f37-7c2c-4d7a-84e6-a231f8526a9d",
   "metadata": {},
   "outputs": [
    {
     "name": "stdout",
     "output_type": "stream",
     "text": [
      "[5 7 7 7 7 5 7 7 7 7 5 7 7 5 5 5 7 7 3 7 5 3 7 7 5 5 3 5 7 7 5 7 5 7 7 7 7\n",
      " 7 7 7 7 5 7 7 7 7 5 7 7 3 7 5 7 5 5 3 7 5 7 7 7 3 7 5 5 5 3 7 7 7 3 7 7 5\n",
      " 7 7 5 5 7 5 7 5 7 7 7 7 7 7 7 5 7 7 5 7 7 7 7 7 7 7]\n"
     ]
    }
   ],
   "source": [
    "from numpy import random\n",
    "x = random.choice([3, 5, 7, 9], p=[0.1, 0.3, 0.6, 0.0], size=(100))\n",
    "print(x)"
   ]
  },
  {
   "cell_type": "code",
   "execution_count": 5,
   "id": "ce8af657-77b3-4210-8946-16b764c1f408",
   "metadata": {},
   "outputs": [
    {
     "name": "stdout",
     "output_type": "stream",
     "text": [
      "[[7 5 7 5 5]\n",
      " [7 5 7 7 5]\n",
      " [5 7 7 5 7]]\n"
     ]
    }
   ],
   "source": [
    "x = random.choice([3, 5, 7, 9], p=[0.1, 0.3, 0.6, 0.0], size=(3, 5))\n",
    "print(x)"
   ]
  },
  {
   "cell_type": "code",
   "execution_count": null,
   "id": "fefccb98-4a99-431a-a340-d650527b7087",
   "metadata": {},
   "outputs": [],
   "source": []
  }
 ],
 "metadata": {
  "kernelspec": {
   "display_name": "Python [conda env:base] *",
   "language": "python",
   "name": "conda-base-py"
  },
  "language_info": {
   "codemirror_mode": {
    "name": "ipython",
    "version": 3
   },
   "file_extension": ".py",
   "mimetype": "text/x-python",
   "name": "python",
   "nbconvert_exporter": "python",
   "pygments_lexer": "ipython3",
   "version": "3.12.7"
  }
 },
 "nbformat": 4,
 "nbformat_minor": 5
}
